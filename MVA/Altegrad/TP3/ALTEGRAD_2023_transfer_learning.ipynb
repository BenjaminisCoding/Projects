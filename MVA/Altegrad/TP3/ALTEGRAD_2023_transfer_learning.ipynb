{
  "cells": [
    {
      "cell_type": "markdown",
      "metadata": {
        "id": "DlAfI8mCWAf3"
      },
      "source": [
        "<center><h2>ALTeGraD 2023<br>Lab Session 3: Transfer learning for NLP</h2> 24 / 10 / 2023<br> Dr. G. Shang, H. Abdine<br><br>\n",
        "\n",
        "\n",
        "<b>Student name:</b> Benjamin Lapostolle\n",
        "\n",
        "</center>\n",
        "\n",
        "<br><br>\n",
        "In this lab we will:\n",
        "* Implement and pretrain a language model with transformer architecture.\n",
        "* Use the pretrained model (transfer learning) to perform a sentiment analysis task which consists of classifying some books reviews into positive and negative ones.\n",
        "* Compare the performance of the pretrained model to a model trained from scratch.\n",
        " <br>\n",
        "\n",
        "<b>The deadline for this lab is October 31, 2023 11:59 PM.</b> More details about the submission and the architecture for this lab can be found in the handout PDF."
      ]
    },
    {
      "cell_type": "code",
      "execution_count": 1,
      "metadata": {
        "id": "IqukuIe0Rb_c"
      },
      "outputs": [],
      "source": [
        "import math\n",
        "import numpy as np\n",
        "\n",
        "import torch\n",
        "import torch.nn as nn\n",
        "from torch.nn.utils.rnn import pad_sequence\n",
        "import torch.nn.functional as F\n",
        "device = torch.device(\"cuda\" if torch.cuda.is_available() else \"cpu\")"
      ]
    },
    {
      "cell_type": "code",
      "execution_count": 2,
      "metadata": {},
      "outputs": [
        {
          "name": "stdout",
          "output_type": "stream",
          "text": [
            "cuda\n"
          ]
        }
      ],
      "source": [
        "print(device)"
      ]
    },
    {
      "cell_type": "markdown",
      "metadata": {
        "id": "5FF6fjkqgN39"
      },
      "source": [
        "### The Model"
      ]
    },
    {
      "cell_type": "code",
      "execution_count": 3,
      "metadata": {
        "id": "p0cj9WkSFQwl"
      },
      "outputs": [],
      "source": [
        "class TransformerModel(nn.Module):\n",
        "    def __init__(self, ntoken, nhead, nhid, nlayers, dropout=0.5):\n",
        "        super(TransformerModel, self).__init__()\n",
        "        '''\n",
        "        ntokens: the size of vocabulary\n",
        "        nhid: the hidden dimension of the model.\n",
        "        We assume that embedding_dim = nhid\n",
        "        nlayers: the number of nn.TransformerEncoderLayer in nn.TransformerEncoder\n",
        "        nhead: the number of heads in the multiheadattention models\n",
        "        dropout: the dropout value\n",
        "         '''\n",
        "        self.model_type = \"Transformer\"\n",
        "        self.encoder = nn.Embedding(num_embeddings=ntoken, embedding_dim=nhid) # fill me, nhid = the dim_embed\n",
        "        self.pos_encoder = PositionalEncoding(nhid) #fill me, the PositionalEncoding class is implemented in the next cell\n",
        "        encoder_layers = nn.TransformerEncoderLayer(d_model=nhid, nhead=nhead, dim_feedforward=nhid) #fill me we assume nhid = d_model = dim_feedforward\n",
        "        self.transformer_encoder = nn.TransformerEncoder(encoder_layer=encoder_layers, num_layers=nlayers) #fill me\n",
        "        self.nhid = nhid\n",
        "        self.init_weights()\n",
        "\n",
        "    def generate_square_subsequent_mask(self, sz):\n",
        "        mask = (torch.triu(torch.ones(sz, sz)) == 1).transpose(0, 1)\n",
        "        mask = (\n",
        "            mask.float()\n",
        "            .masked_fill(mask == 0, float(\"-inf\"))\n",
        "            .masked_fill(mask == 1, float(0.0))\n",
        "        )\n",
        "        return mask\n",
        "\n",
        "    def init_weights(self):\n",
        "        initrange = 0.1\n",
        "        self.encoder.weight.data.uniform_(-initrange, initrange)\n",
        "\n",
        "    def forward(self, src, src_mask):\n",
        "        src = self.encoder(src) * math.sqrt(self.nhid)\n",
        "        src = self.pos_encoder(src)\n",
        "        output = self.transformer_encoder(src)\n",
        "        return output\n",
        "\n",
        "\n",
        "class ClassificationHead(nn.Module):\n",
        "    def __init__(self, nhid, nclasses):\n",
        "        super(ClassificationHead, self).__init__()\n",
        "        self.decoder = nn.Linear(nhid, nclasses)\n",
        "        self.init_weights()\n",
        "\n",
        "    def init_weights(self):\n",
        "        initrange = 0.1\n",
        "        self.decoder.bias.data.zero_()\n",
        "        self.decoder.weight.data.uniform_(-initrange, initrange)\n",
        "\n",
        "    def forward(self, src):\n",
        "        output = self.decoder(src)\n",
        "        return output\n",
        "\n",
        "class Model(nn.Module):\n",
        "    def __init__(self, ntoken, nhead, nhid, nlayers, nclasses, dropout=0.5):\n",
        "        super(Model, self).__init__()\n",
        "        self.base = TransformerModel(ntoken, nhead, nhid, nlayers, dropout)\n",
        "        self.classifier = ClassificationHead(nhid, nclasses)\n",
        "\n",
        "    def forward(self, src, src_mask):\n",
        "        # base model\n",
        "        x = self.base(src, src_mask)\n",
        "        # classifier model\n",
        "        output = self.classifier(x)\n",
        "        return output"
      ]
    },
    {
      "cell_type": "code",
      "execution_count": 4,
      "metadata": {
        "id": "kt2QQohaFZry"
      },
      "outputs": [],
      "source": [
        "class PositionalEncoding(nn.Module):\n",
        "    def __init__(self, nhid, dropout=0.1, max_len=5000):\n",
        "        super(PositionalEncoding, self).__init__()\n",
        "        self.dropout = nn.Dropout(p=dropout)\n",
        "\n",
        "        pe = torch.zeros(max_len, nhid)\n",
        "        position = torch.arange(0, max_len, dtype=torch.float).unsqueeze(1)\n",
        "        div_term = torch.exp(\n",
        "            torch.arange(0, nhid, 2).float() * (-math.log(10000.0) / nhid)\n",
        "        )\n",
        "        pe[:, 0::2] = torch.sin(position * div_term)\n",
        "        pe[:, 1::2] = torch.cos(position * div_term)\n",
        "        pe = pe.unsqueeze(0).transpose(0, 1)\n",
        "        self.register_buffer(\"pe\", pe)\n",
        "\n",
        "    def forward(self, x):\n",
        "        x = x + self.pe[: x.size(0), :]\n",
        "        return self.dropout(x)"
      ]
    },
    {
      "cell_type": "markdown",
      "metadata": {
        "id": "SfEYHJx2JW6l"
      },
      "source": [
        "Let's verify if our model works, by applying one inference step"
      ]
    },
    {
      "cell_type": "code",
      "execution_count": 5,
      "metadata": {
        "id": "rhb2gkUhJMR0"
      },
      "outputs": [
        {
          "name": "stderr",
          "output_type": "stream",
          "text": [
            "c:\\Users\\benja\\anaconda3\\envs\\altegrad\\Lib\\site-packages\\torch\\nn\\modules\\transformer.py:282: UserWarning: enable_nested_tensor is True, but self.use_nested_tensor is False because encoder_layer.self_attn.batch_first was not True(use batch_first for better inference performance)\n",
            "  warnings.warn(f\"enable_nested_tensor is True, but self.use_nested_tensor is False because {why_not_sparsity_fast_path}\")\n"
          ]
        },
        {
          "name": "stdout",
          "output_type": "stream",
          "text": [
            "torch.Size([1, 6, 100])\n"
          ]
        }
      ],
      "source": [
        "ntokens = 100 # the size of vocabulary\n",
        "nhid = 200  # hidden dimension\n",
        "nlayers = 4  # the number of nn.TransformerEncoderLayer in nn.TransformerEncoder\n",
        "nhead = 2  # the number of heads in the multiheadattention models\n",
        "dropout = 0  # the dropout value\n",
        "\n",
        "model = Model(ntokens, nhead, nhid, nlayers, ntokens, dropout).to(device)\n",
        "dummy_input = torch.tensor([[2, 6, 2, 5, 43, 21]]).to(device)\n",
        "src_mask = model.base.generate_square_subsequent_mask(1).to(device)\n",
        "out = model.forward(dummy_input, src_mask)\n",
        "\n",
        "print(out.shape) # is it the right shape?"
      ]
    },
    {
      "cell_type": "markdown",
      "metadata": {},
      "source": [
        "We obtain the shape $[1,6,100]$. 1 corresponds to a batch, 6 corresponds to the number of words we predicted and 100 corresponds to the number of classes, which is equal to the size of the vocabulary here so 100."
      ]
    },
    {
      "cell_type": "markdown",
      "metadata": {
        "id": "i74NN897Fcit"
      },
      "source": [
        "## Vocabulary and Tokenization"
      ]
    },
    {
      "cell_type": "code",
      "execution_count": 6,
      "metadata": {
        "id": "5qjd26ghWuff"
      },
      "outputs": [
        {
          "name": "stdout",
          "output_type": "stream",
          "text": [
            "['▁d 1\\n', 'es 1\\n', '▁l 1\\n', 'en 1\\n', 'on 1\\n']\n"
          ]
        }
      ],
      "source": [
        "#!wget https://raw.githubusercontent.com/moussaKam/transfer_learning_transformers/main/dict.txt\n",
        "#!head -5 dict.txt\n",
        "\n",
        "path_vocab = r\"C:\\Users\\benja\\Documents\\MVA\\P1\\Altegrad\\TP3\\dict.txt\"\n",
        "\n",
        "\n",
        "with open(path_vocab, 'r') as R:\n",
        "    print(R.readlines()[:5])"
      ]
    },
    {
      "cell_type": "code",
      "execution_count": 7,
      "metadata": {
        "id": "vFdH_-JeFbGA"
      },
      "outputs": [
        {
          "name": "stdout",
          "output_type": "stream",
          "text": [
            "▁trop 1111\n"
          ]
        }
      ],
      "source": [
        "path_vocab = r\"C:\\Users\\benja\\Documents\\MVA\\P1\\Altegrad\\TP3\\dict.txt\"\n",
        "\n",
        "token2ind = {\"<sos>\": 0, \"<pad>\": 1, \"<eos>\": 2, \"<oov>\": 3} # the 4 first indices are reserved to special tokens\n",
        "with open(path_vocab, \"r\") as f:\n",
        "    for idx, line in enumerate(f):\n",
        "        word = line.split()[0].strip()\n",
        "        token2ind[word] = idx + 4 #fill me\n",
        "\n",
        "ind2token = {idx: word for word, idx in token2ind.items()} #fill me\n",
        "\n",
        "print(ind2token[1111], token2ind[ind2token[1111]])"
      ]
    },
    {
      "cell_type": "markdown",
      "metadata": {
        "id": "XOExGODajN8p"
      },
      "source": [
        "### Data Loader\n"
      ]
    },
    {
      "cell_type": "code",
      "execution_count": 8,
      "metadata": {
        "id": "Y0jN-Ar9i5Q1"
      },
      "outputs": [],
      "source": [
        "import numpy\n",
        "import torch\n",
        "from torch.nn.utils.rnn import pad_sequence\n",
        "from torch.utils.data import DataLoader, Dataset\n",
        "\n",
        "\n",
        "class Dataset(Dataset):\n",
        "    def __init__(\n",
        "        self,\n",
        "        path_documents,\n",
        "        path_labels=None,\n",
        "        token2ind={},\n",
        "        max_len=512,\n",
        "        task=\"language_modeling\",\n",
        "    ):\n",
        "        self.task = task\n",
        "        self.max_len = max_len\n",
        "        self.token2ind = token2ind\n",
        "        self.documents = []\n",
        "        self.labels = []\n",
        "        with open(path_documents, \"r\") as f1:\n",
        "            for line in f1:\n",
        "                self.documents.append(line.strip())\n",
        "        if task == \"classification\":\n",
        "            with open(path_labels, \"r\") as f1:\n",
        "                for line in f1:\n",
        "                    self.labels.append(int(line.strip()))\n",
        "            assert len(self.labels) == len(self.documents)\n",
        "\n",
        "    def __len__(self):\n",
        "        return len(self.documents)\n",
        "\n",
        "    def __getitem__(self, index):\n",
        "        sequence = self.documents[index].split()\n",
        "        if len(sequence) > self.max_len - 1:\n",
        "            sequence = sequence[: self.max_len - 1]\n",
        "        source_sequence = [self.token2ind['<sos>']]#fill me (constract the input sequence using token2ind, sequence and special tokens)\n",
        "        for token in sequence:#do not forget to use the <oov> when the token in the data studied is not in our defined vocab\n",
        "                if token in token2ind.keys():\n",
        "                    source_sequence.append(self.token2ind[token])\n",
        "                else:\n",
        "                    source_sequence.append(self.token2ind['<oov>'])\n",
        "                    \n",
        "        if self.task == \"language_modeling\":\n",
        "            target = source_sequence[1:]\n",
        "            target.append(self.token2ind[\"<eos>\"])\n",
        "        elif self.task == \"classification\":\n",
        "            target = [self.labels[index]]\n",
        "        sample = {\n",
        "            \"source_sequence\": torch.tensor(source_sequence),\n",
        "            \"target\": torch.tensor(target),\n",
        "        }\n",
        "        return sample\n",
        "\n",
        "\n",
        "def MyCollator(batch):\n",
        "    source_sequences = pad_sequence(\n",
        "        #we use padding to match the length of the sequences in the same batch\n",
        "        [sample[\"source_sequence\"] for sample in batch], padding_value=token2ind[\"<pad>\"]\n",
        "    )\n",
        "    target = pad_sequence(\n",
        "        [sample[\"target\"] for sample in batch], padding_value=token2ind[\"<pad>\"]\n",
        "    )\n",
        "    return source_sequences, target.reshape(-1)\n",
        "\n",
        "\n",
        "def get_loader(\n",
        "    path_documents,\n",
        "    path_labels=None,\n",
        "    token2ind={},\n",
        "    max_len=512,\n",
        "    batch_size=32,\n",
        "    task=\"language_modeling\",\n",
        "):\n",
        "    dataset = Dataset(\n",
        "        path_documents,\n",
        "        path_labels=path_labels,\n",
        "        token2ind=token2ind,\n",
        "        max_len=512,\n",
        "        task=task,\n",
        "    )\n",
        "    data_loader = DataLoader(\n",
        "        dataset=dataset,\n",
        "        batch_size=batch_size,\n",
        "        shuffle=True,\n",
        "        collate_fn=MyCollator,\n",
        "        pin_memory=True,\n",
        "        drop_last=True,\n",
        "    )\n",
        "    return data_loader"
      ]
    },
    {
      "cell_type": "markdown",
      "metadata": {
        "id": "uTns4lHrjUTa"
      },
      "source": [
        "## The Training"
      ]
    },
    {
      "cell_type": "code",
      "execution_count": 9,
      "metadata": {
        "id": "4_jwosiLjRsS"
      },
      "outputs": [],
      "source": [
        "def train(\n",
        "    path_data_train,\n",
        "    path_labels_train=None,\n",
        "    path_data_valid=None,\n",
        "    save_interval=-1,\n",
        "    log_interval=5,\n",
        "    task=\"language_modeling\",\n",
        "    batch_size=32,\n",
        "):\n",
        "    model.train()\n",
        "    total_loss = 0.0\n",
        "    ntokens = len(token2ind)\n",
        "    data_loader = get_loader(\n",
        "        path_data_train,\n",
        "        path_labels_train,\n",
        "        token2ind,\n",
        "        task=task,\n",
        "        batch_size=batch_size,\n",
        "    )\n",
        "    \n",
        "    losses = []\n",
        "    #criterion = torch.nn.CrossEntropyLoss() #defined globally in next cells\n",
        "    for idx, data in enumerate(data_loader): #step 1\n",
        "        optimizer.zero_grad()\n",
        "        src_mask = model.base.generate_square_subsequent_mask(data[0].size(0)).to(\n",
        "            device\n",
        "        )\n",
        "        input = data[0].to(device)\n",
        "        output = model(input, src_mask) #step 2\n",
        "        #print('rax output', output.shape)\n",
        "        if task == 'classification':\n",
        "            #last vector only, because we want to do sentiment analysis\n",
        "            output = output[-1,:,:]\n",
        "            #print('output2', output.shape)\n",
        "        output = output.view(-1, output.shape[-1])\n",
        "        target =  data[1] #fill me\n",
        "        target = target.to(device)\n",
        "        #fill me, Cross entropy check next cells #check if we need to flatten \n",
        "        #fill me step 3\n",
        "        #print(input.shape, output.shape, target.shape, '11111')\n",
        "        loss =  criterion(output, target)   \n",
        "        torch.nn.utils.clip_grad_norm_(model.parameters(), 0.5) # prevent exploding gradient\n",
        "        #fill me step 4\n",
        "        loss.backward()\n",
        "        optimizer.step()\n",
        "        total_loss += loss.item()\n",
        "        if idx % log_interval == 0 and idx > 0:\n",
        "            cur_loss = total_loss / log_interval\n",
        "            print(\n",
        "                \"| epoch {:3d} | {:5d}/{:5d} steps | \"\n",
        "                \"loss {:5.5f} | ppl {:8.3f}\".format(\n",
        "                    epoch, idx, len(data_loader), cur_loss, math.exp(cur_loss),\n",
        "                )\n",
        "            )\n",
        "            losses.append(cur_loss)\n",
        "            total_loss = 0\n",
        "    return losses"
      ]
    },
    {
      "cell_type": "code",
      "execution_count": 10,
      "metadata": {},
      "outputs": [
        {
          "data": {
            "text/plain": [
              "50001"
            ]
          },
          "execution_count": 10,
          "metadata": {},
          "output_type": "execute_result"
        }
      ],
      "source": [
        "len(token2ind.keys())"
      ]
    },
    {
      "cell_type": "code",
      "execution_count": 44,
      "metadata": {
        "id": "pgf6BDB9jUr6"
      },
      "outputs": [
        {
          "name": "stderr",
          "output_type": "stream",
          "text": [
            "c:\\Users\\benja\\anaconda3\\envs\\altegrad\\Lib\\site-packages\\torch\\nn\\modules\\transformer.py:282: UserWarning: enable_nested_tensor is True, but self.use_nested_tensor is False because encoder_layer.self_attn.batch_first was not True(use batch_first for better inference performance)\n",
            "  warnings.warn(f\"enable_nested_tensor is True, but self.use_nested_tensor is False because {why_not_sparsity_fast_path}\")\n"
          ]
        }
      ],
      "source": [
        "ntokens = len(token2ind.keys())#fill me # the size of vocabulary\n",
        "nhid = 200  # the dimension of the feedforward network model in nn.TransformerEncoder\n",
        "nlayers = 4  # the number of nn.TransformerEncoderLayer in nn.TransformerEncoder\n",
        "nhead = 2  # the number of heads in the multiheadattention models\n",
        "dropout = 0  # the dropout value\n",
        "\n",
        "nclasses = 2 # for classification task only\n",
        "\n",
        "model = Model(ntokens, nhead, nhid, nlayers, ntokens, dropout).to(device)"
      ]
    },
    {
      "cell_type": "code",
      "execution_count": 45,
      "metadata": {
        "id": "u-OLy4KIkDwf"
      },
      "outputs": [],
      "source": [
        "# optimization paramerters\n",
        "\n",
        "criterion = nn.CrossEntropyLoss(ignore_index=token2ind['<pad>'])\n",
        "lr = 0.0003  # learning rate\n",
        "optimizer = torch.optim.Adam(model.parameters(), lr=lr)"
      ]
    },
    {
      "cell_type": "code",
      "execution_count": 46,
      "metadata": {
        "id": "Bwh3n9xZQy4e"
      },
      "outputs": [],
      "source": [
        "#!wget https://raw.githubusercontent.com/moussaKam/transfer_learning_transformers/main/pretraining_subset.txt\n",
        "path_data_train = r\"C:\\Users\\benja\\Documents\\MVA\\P1\\Altegrad\\TP3\\pretraining_subset.txt\""
      ]
    },
    {
      "cell_type": "code",
      "execution_count": 47,
      "metadata": {
        "id": "0m11g4ScjZaR"
      },
      "outputs": [
        {
          "name": "stdout",
          "output_type": "stream",
          "text": [
            "| epoch   1 |   500/ 3125 steps | loss 7.11124 | ppl 1225.666\n",
            "| epoch   1 |  1000/ 3125 steps | loss 5.26273 | ppl  193.007\n",
            "| epoch   1 |  1500/ 3125 steps | loss 4.08292 | ppl   59.318\n",
            "| epoch   1 |  2000/ 3125 steps | loss 3.01488 | ppl   20.387\n",
            "| epoch   1 |  2500/ 3125 steps | loss 2.26374 | ppl    9.619\n",
            "| epoch   1 |  3000/ 3125 steps | loss 1.73666 | ppl    5.678\n",
            "| epoch   2 |   500/ 3125 steps | loss 1.11823 | ppl    3.059\n",
            "| epoch   2 |  1000/ 3125 steps | loss 0.92408 | ppl    2.520\n",
            "| epoch   2 |  1500/ 3125 steps | loss 0.77302 | ppl    2.166\n",
            "| epoch   2 |  2000/ 3125 steps | loss 0.66263 | ppl    1.940\n",
            "| epoch   2 |  2500/ 3125 steps | loss 0.56617 | ppl    1.762\n",
            "| epoch   2 |  3000/ 3125 steps | loss 0.50207 | ppl    1.652\n"
          ]
        }
      ],
      "source": [
        "#pretraining on a tiny subset\n",
        "log_interval = 500\n",
        "epochs = 2\n",
        "for epoch in range(1, epochs + 1): #5\n",
        "    train(\n",
        "        path_data_train,\n",
        "        save_interval=-1,\n",
        "        task= \"language_modeling\", # fill me\n",
        "        batch_size=16,\n",
        "        log_interval=log_interval,\n",
        "    )"
      ]
    },
    {
      "cell_type": "markdown",
      "metadata": {
        "id": "MeOM1dOvkO4e"
      },
      "source": [
        "## Text Generation\n"
      ]
    },
    {
      "cell_type": "code",
      "execution_count": 14,
      "metadata": {
        "id": "-BcBC6FSkMH3"
      },
      "outputs": [
        {
          "name": "stderr",
          "output_type": "stream",
          "text": [
            "c:\\Users\\benja\\anaconda3\\envs\\altegrad\\Lib\\site-packages\\torch\\nn\\modules\\transformer.py:282: UserWarning: enable_nested_tensor is True, but self.use_nested_tensor is False because encoder_layer.self_attn.batch_first was not True(use batch_first for better inference performance)\n",
            "  warnings.warn(f\"enable_nested_tensor is True, but self.use_nested_tensor is False because {why_not_sparsity_fast_path}\")\n"
          ]
        },
        {
          "data": {
            "text/plain": [
              "<All keys matched successfully>"
            ]
          },
          "execution_count": 14,
          "metadata": {},
          "output_type": "execute_result"
        }
      ],
      "source": [
        "#!wget https://raw.githubusercontent.com/moussaKam/transfer_learning_transformers/main/pretrained_model_4layers.pt\n",
        "\n",
        "model = Model(ntokens, nhead, nhid, nlayers, ntokens).to(device)\n",
        "\n",
        "#load the checkpoint\n",
        "path_weigths = r\"C:\\Users\\benja\\Documents\\MVA\\P1\\Altegrad\\TP3\\pretrained_model_4layers.pt\"\n",
        "checkpoint = torch.load(path_weigths)\n",
        "#load state dict\n",
        "model.load_state_dict(checkpoint['model_state_dict'])"
      ]
    },
    {
      "cell_type": "code",
      "execution_count": 15,
      "metadata": {
        "id": "tBRRVsWqlIoQ"
      },
      "outputs": [
        {
          "name": "stdout",
          "output_type": "stream",
          "text": [
            "['▁Bonjour', '▁les', '▁amis', '!']\n",
            "Bonjour les amis!\n"
          ]
        }
      ],
      "source": [
        "# !pip install sentencepiece   # uncomment this if you are using google colab\n",
        "#!wget https://raw.githubusercontent.com/moussaKam/transfer_learning_transformers/main/sentencepiece.french.model\n",
        "\n",
        "import sentencepiece as spm\n",
        "\n",
        "s = spm.SentencePieceProcessor(model_file=r\"C:\\Users\\benja\\Documents\\MVA\\P1\\Altegrad\\TP3\\sentencepiece.french.model\") #load sentencepiece model\n",
        "\n",
        "#examples\n",
        "encoded = s.encode_as_pieces(\"Bonjour les amis!\")\n",
        "decoded = s.decode_pieces(encoded)\n",
        "print(encoded)\n",
        "print(decoded)"
      ]
    },
    {
      "cell_type": "code",
      "execution_count": 16,
      "metadata": {
        "id": "TtLlV05pkQI3"
      },
      "outputs": [],
      "source": [
        "def infer_next_token(sent):\n",
        "    model.eval()\n",
        "    sent_pieces = s.encode_as_pieces(sent)\n",
        "    source = [token2ind['<sos>']] + [token2ind[el] for el in sent_pieces] # list of tokens, here we assume we won't have <oov>\n",
        "    source = torch.tensor(source).to(device)\n",
        "    source = source.reshape(-1, 1)\n",
        "    src_mask = model.base.generate_square_subsequent_mask(source.size(0)).to(device)\n",
        "    out = model(source, src_mask)\n",
        "    next_token_ind = torch.argmax(F.softmax(out, dim=2)[-1,0,:]) #argmax(softmax(output))#see the size of the output of the model in this task, if it is size vocabulary then the next token is the argmax of the softmax of the output#fill me\n",
        "    return next_token_ind, out\n",
        "\n",
        "def infer_next_tokens(sent, max_len=50):\n",
        "    # to be implemented\n",
        "    predicted_sent, source, last_predicted_idx = sent, s.encode_as_pieces(sent), -1 #last_predicted_index is used to check if the previous predicted token is a <eos>\n",
        "    while len(source) < max_len and last_predicted_idx != 2: #2 is the index of <eos> in our tokenization of the vocabulary \n",
        "        last_predicted_idx, _ = infer_next_token(predicted_sent)\n",
        "        source.append(ind2token[last_predicted_idx.item()])\n",
        "        predicted_sent = s.decode_pieces(source)\n",
        "    return predicted_sent"
      ]
    },
    {
      "cell_type": "code",
      "execution_count": 17,
      "metadata": {
        "id": "f83Nn5nSly4v"
      },
      "outputs": [
        {
          "data": {
            "text/plain": [
              "'Bonjour les gens qui ont fait des choses.<eos>'"
            ]
          },
          "execution_count": 17,
          "metadata": {},
          "output_type": "execute_result"
        }
      ],
      "source": [
        "sent = \"Bonjour les\"\n",
        "infer_next_tokens(sent)"
      ]
    },
    {
      "cell_type": "markdown",
      "metadata": {
        "id": "Lp7mjVzomoZ3"
      },
      "source": [
        "### Supervised task"
      ]
    },
    {
      "cell_type": "code",
      "execution_count": 43,
      "metadata": {
        "id": "0K1BZsblmEmx"
      },
      "outputs": [],
      "source": [
        "#!wget https://raw.githubusercontent.com/moussaKam/transfer_learning_transformers/main/cls-books/train.review.spm\n",
        "#!wget https://raw.githubusercontent.com/moussaKam/transfer_learning_transformers/main/cls-books/train.label\n",
        "#!wget https://raw.githubusercontent.com/moussaKam/transfer_learning_transformers/main/cls-books/test.review.spm\n",
        "#!wget https://raw.githubusercontent.com/moussaKam/transfer_learning_transformers/main/cls-books/test.label\n",
        "\n",
        "path_data_train = r\"C:\\Users\\benja\\Documents\\MVA\\P1\\Altegrad\\TP3\\train.review.spm\"\n",
        "path_labels_train = r\"C:\\Users\\benja\\Documents\\MVA\\P1\\Altegrad\\TP3\\train.label\"\n",
        "\n",
        "path_data_valid = r\"C:\\Users\\benja\\Documents\\MVA\\P1\\Altegrad\\TP3\\test.review.spm\"\n",
        "path_labels_valid = r\"C:\\Users\\benja\\Documents\\MVA\\P1\\Altegrad\\TP3\\test.label\""
      ]
    },
    {
      "cell_type": "code",
      "execution_count": 32,
      "metadata": {
        "id": "_MLfvjiom2SL"
      },
      "outputs": [],
      "source": [
        "# a function to evaluate the validation accuracy of the model.\n",
        "def evaluate_accuracy(data_loader):\n",
        "    #to be implemented\n",
        "    model.eval()\n",
        "    accuracies = []\n",
        "    for idx, data in enumerate(data_loader):\n",
        "        src_mask = model.base.generate_square_subsequent_mask(data[0].size(0)).to(\n",
        "            device\n",
        "        )\n",
        "        input = data[0].to(device)\n",
        "        output = model(input, src_mask)[-1,:,:].to(torch.device(\"cpu\"))\n",
        "        predictions = torch.argmax(F.softmax(output, dim = 1), dim = 1)\n",
        "        targets =  data[1]\n",
        "        correct_predictions = (predictions == targets).sum().item()\n",
        "        accuracy = correct_predictions / len(targets)\n",
        "        accuracies.append(accuracy)\n",
        "    \n",
        "    return np.array(accuracies).sum() / len(accuracies)\n",
        "        "
      ]
    },
    {
      "cell_type": "code",
      "execution_count": 20,
      "metadata": {
        "id": "qzmx7T7xoa6v"
      },
      "outputs": [],
      "source": [
        "#save the base model to be loaded later in the fine-tuning phase\n",
        "torch.save({\"model_state_dict\": model.base.state_dict(),}, \"pretrained_model_4layers_no_class_head.pt\")"
      ]
    },
    {
      "cell_type": "code",
      "execution_count": 36,
      "metadata": {
        "id": "i-xclMCpnVpw"
      },
      "outputs": [
        {
          "name": "stdout",
          "output_type": "stream",
          "text": [
            "=====Trainig FROM SCRATCH======\n",
            "| epoch   1 |    50/  200 steps | loss 0.81914 | ppl    2.269\n",
            "| epoch   1 |   100/  200 steps | loss 0.70112 | ppl    2.016\n",
            "| epoch   1 |   150/  200 steps | loss 0.71595 | ppl    2.046\n",
            "| epoch   2 |    50/  200 steps | loss 0.71600 | ppl    2.046\n",
            "| epoch   2 |   100/  200 steps | loss 0.70636 | ppl    2.027\n",
            "| epoch   2 |   150/  200 steps | loss 0.70208 | ppl    2.018\n",
            "| epoch   3 |    50/  200 steps | loss 0.69773 | ppl    2.009\n",
            "| epoch   3 |   100/  200 steps | loss 0.63428 | ppl    1.886\n",
            "| epoch   3 |   150/  200 steps | loss 0.60084 | ppl    1.824\n",
            "| epoch   4 |    50/  200 steps | loss 0.41552 | ppl    1.515\n",
            "| epoch   4 |   100/  200 steps | loss 0.35323 | ppl    1.424\n",
            "| epoch   4 |   150/  200 steps | loss 0.30195 | ppl    1.352\n",
            "| epoch   5 |    50/  200 steps | loss 0.08260 | ppl    1.086\n",
            "| epoch   5 |   100/  200 steps | loss 0.05996 | ppl    1.062\n",
            "| epoch   5 |   150/  200 steps | loss 0.13188 | ppl    1.141\n",
            "| epoch   6 |    50/  200 steps | loss 0.04274 | ppl    1.044\n",
            "| epoch   6 |   100/  200 steps | loss 0.03234 | ppl    1.033\n",
            "| epoch   6 |   150/  200 steps | loss 0.04345 | ppl    1.044\n",
            "| epoch   7 |    50/  200 steps | loss 0.01109 | ppl    1.011\n",
            "| epoch   7 |   100/  200 steps | loss 0.00234 | ppl    1.002\n",
            "| epoch   7 |   150/  200 steps | loss 0.00147 | ppl    1.001\n",
            "| epoch   8 |    50/  200 steps | loss 0.00071 | ppl    1.001\n",
            "| epoch   8 |   100/  200 steps | loss 0.03412 | ppl    1.035\n",
            "| epoch   8 |   150/  200 steps | loss 0.00935 | ppl    1.009\n",
            "| epoch   9 |    50/  200 steps | loss 0.01588 | ppl    1.016\n",
            "| epoch   9 |   100/  200 steps | loss 0.00196 | ppl    1.002\n",
            "| epoch   9 |   150/  200 steps | loss 0.01183 | ppl    1.012\n",
            "| epoch  10 |    50/  200 steps | loss 0.00655 | ppl    1.007\n",
            "| epoch  10 |   100/  200 steps | loss 0.00233 | ppl    1.002\n",
            "| epoch  10 |   150/  200 steps | loss 0.02431 | ppl    1.025\n",
            "| epoch  11 |    50/  200 steps | loss 0.00457 | ppl    1.005\n",
            "| epoch  11 |   100/  200 steps | loss 0.00071 | ppl    1.001\n",
            "| epoch  11 |   150/  200 steps | loss 0.00362 | ppl    1.004\n",
            "| epoch  12 |    50/  200 steps | loss 0.04137 | ppl    1.042\n",
            "| epoch  12 |   100/  200 steps | loss 0.02172 | ppl    1.022\n",
            "| epoch  12 |   150/  200 steps | loss 0.00694 | ppl    1.007\n",
            "| epoch  13 |    50/  200 steps | loss 0.01028 | ppl    1.010\n",
            "| epoch  13 |   100/  200 steps | loss 0.00887 | ppl    1.009\n",
            "| epoch  13 |   150/  200 steps | loss 0.00214 | ppl    1.002\n",
            "| epoch  14 |    50/  200 steps | loss 0.01650 | ppl    1.017\n",
            "| epoch  14 |   100/  200 steps | loss 0.00174 | ppl    1.002\n",
            "| epoch  14 |   150/  200 steps | loss 0.00033 | ppl    1.000\n",
            "| epoch  15 |    50/  200 steps | loss 0.00062 | ppl    1.001\n",
            "| epoch  15 |   100/  200 steps | loss 0.00018 | ppl    1.000\n",
            "| epoch  15 |   150/  200 steps | loss 0.00019 | ppl    1.000\n",
            "\n",
            "=====PRETRAINED MODEL======\n",
            "| epoch   1 |    50/  200 steps | loss 0.86928 | ppl    2.385\n",
            "| epoch   1 |   100/  200 steps | loss 0.72030 | ppl    2.055\n",
            "| epoch   1 |   150/  200 steps | loss 0.68410 | ppl    1.982\n",
            "| epoch   2 |    50/  200 steps | loss 0.64763 | ppl    1.911\n",
            "| epoch   2 |   100/  200 steps | loss 0.57817 | ppl    1.783\n",
            "| epoch   2 |   150/  200 steps | loss 0.55682 | ppl    1.745\n",
            "| epoch   3 |    50/  200 steps | loss 0.51952 | ppl    1.681\n",
            "| epoch   3 |   100/  200 steps | loss 0.49152 | ppl    1.635\n",
            "| epoch   3 |   150/  200 steps | loss 0.42208 | ppl    1.525\n",
            "| epoch   4 |    50/  200 steps | loss 0.38827 | ppl    1.474\n",
            "| epoch   4 |   100/  200 steps | loss 0.36152 | ppl    1.436\n",
            "| epoch   4 |   150/  200 steps | loss 0.32042 | ppl    1.378\n",
            "| epoch   5 |    50/  200 steps | loss 0.27556 | ppl    1.317\n",
            "| epoch   5 |   100/  200 steps | loss 0.31171 | ppl    1.366\n",
            "| epoch   5 |   150/  200 steps | loss 0.32292 | ppl    1.381\n",
            "| epoch   6 |    50/  200 steps | loss 0.19756 | ppl    1.218\n",
            "| epoch   6 |   100/  200 steps | loss 0.24475 | ppl    1.277\n",
            "| epoch   6 |   150/  200 steps | loss 0.22143 | ppl    1.248\n",
            "| epoch   7 |    50/  200 steps | loss 0.16211 | ppl    1.176\n",
            "| epoch   7 |   100/  200 steps | loss 0.19277 | ppl    1.213\n",
            "| epoch   7 |   150/  200 steps | loss 0.16858 | ppl    1.184\n",
            "| epoch   8 |    50/  200 steps | loss 0.09101 | ppl    1.095\n",
            "| epoch   8 |   100/  200 steps | loss 0.07661 | ppl    1.080\n",
            "| epoch   8 |   150/  200 steps | loss 0.10379 | ppl    1.109\n",
            "| epoch   9 |    50/  200 steps | loss 0.09278 | ppl    1.097\n",
            "| epoch   9 |   100/  200 steps | loss 0.05679 | ppl    1.058\n",
            "| epoch   9 |   150/  200 steps | loss 0.09433 | ppl    1.099\n",
            "| epoch  10 |    50/  200 steps | loss 0.03874 | ppl    1.040\n",
            "| epoch  10 |   100/  200 steps | loss 0.05264 | ppl    1.054\n",
            "| epoch  10 |   150/  200 steps | loss 0.08521 | ppl    1.089\n",
            "| epoch  11 |    50/  200 steps | loss 0.02692 | ppl    1.027\n",
            "| epoch  11 |   100/  200 steps | loss 0.07055 | ppl    1.073\n",
            "| epoch  11 |   150/  200 steps | loss 0.05554 | ppl    1.057\n",
            "| epoch  12 |    50/  200 steps | loss 0.06188 | ppl    1.064\n",
            "| epoch  12 |   100/  200 steps | loss 0.02310 | ppl    1.023\n",
            "| epoch  12 |   150/  200 steps | loss 0.01171 | ppl    1.012\n",
            "| epoch  13 |    50/  200 steps | loss 0.02768 | ppl    1.028\n",
            "| epoch  13 |   100/  200 steps | loss 0.01412 | ppl    1.014\n",
            "| epoch  13 |   150/  200 steps | loss 0.02962 | ppl    1.030\n",
            "| epoch  14 |    50/  200 steps | loss 0.02409 | ppl    1.024\n",
            "| epoch  14 |   100/  200 steps | loss 0.01350 | ppl    1.014\n",
            "| epoch  14 |   150/  200 steps | loss 0.02532 | ppl    1.026\n",
            "| epoch  15 |    50/  200 steps | loss 0.07072 | ppl    1.073\n",
            "| epoch  15 |   100/  200 steps | loss 0.03007 | ppl    1.031\n",
            "| epoch  15 |   150/  200 steps | loss 0.02539 | ppl    1.026\n",
            "\n"
          ]
        }
      ],
      "source": [
        "from_scratch_settings = [True, False]\n",
        "\n",
        "from_scratch_valid_acc = []\n",
        "pretrained_valid_acc = []\n",
        "lr = 0.0001\n",
        "\n",
        "for from_scratch in from_scratch_settings:\n",
        "    model = Model(ntokens, nhead, nhid, nlayers, 2, dropout).to(device)\n",
        "    criterion = nn.CrossEntropyLoss()\n",
        "    optimizer = torch.optim.Adam(model.parameters(), lr=lr)\n",
        "    if not from_scratch:\n",
        "        print(\"=====PRETRAINED MODEL======\")\n",
        "        #load checkpoint\n",
        "        checkpoint = torch.load(\"pretrained_model_4layers_no_class_head.pt\")\n",
        "        #load state dict\n",
        "        model.base.load_state_dict(checkpoint['model_state_dict'])\n",
        "    else:\n",
        "        print(\"=====Trainig FROM SCRATCH======\")\n",
        "    epochs = 15\n",
        "    for epoch in range(1, epochs + 1):\n",
        "        train(\n",
        "            path_data_train,\n",
        "            path_labels_train,\n",
        "            save_interval=-1,\n",
        "            task='classification',\n",
        "            batch_size=8,\n",
        "            log_interval=50,\n",
        "        )\n",
        "        acc = evaluate_accuracy(\n",
        "            get_loader(\n",
        "                path_data_valid,\n",
        "                path_labels_valid,\n",
        "                token2ind=token2ind,\n",
        "                batch_size=20,\n",
        "                task='classification',\n",
        "            )\n",
        "        )\n",
        "        if from_scratch:\n",
        "            from_scratch_valid_acc.append(acc)\n",
        "        else:\n",
        "            pretrained_valid_acc.append(acc)\n",
        "    print()"
      ]
    },
    {
      "cell_type": "code",
      "execution_count": 41,
      "metadata": {
        "id": "RCpBIdTHojm6"
      },
      "outputs": [
        {
          "data": {
            "image/png": "[encoded data removed]",
            "text/plain": [
              "<Figure size 800x600 with 1 Axes>"
            ]
          },
          "metadata": {},
          "output_type": "display_data"
        }
      ],
      "source": [
        "#Visualize the accuracy\n",
        "import matplotlib.pyplot as plt\n",
        "\n",
        "plt.figure(figsize=(8, 6))\n",
        "plt.plot(from_scratch_valid_acc, label='from scratch')\n",
        "plt.plot(pretrained_valid_acc, label='pretained base')\n",
        "\n",
        "# Add labels, title, and legend\n",
        "plt.xlabel('epochs')\n",
        "plt.ylabel('accuracy')\n",
        "plt.title('Accuracy of the two experiments')\n",
        "plt.legend()\n",
        "\n",
        "# Display the plot\n",
        "plt.show()"
      ]
    },
    {
      "cell_type": "code",
      "execution_count": 38,
      "metadata": {},
      "outputs": [
        {
          "data": {
            "text/plain": [
              "[0.6515000000000001,\n",
              " 0.6805,\n",
              " 0.7665,\n",
              " 0.7544999999999998,\n",
              " 0.7865000000000002,\n",
              " 0.7970000000000002,\n",
              " 0.787,\n",
              " 0.8055,\n",
              " 0.8005,\n",
              " 0.7969999999999999,\n",
              " 0.7669999999999999,\n",
              " 0.8029999999999999,\n",
              " 0.7729999999999998,\n",
              " 0.8005000000000001,\n",
              " 0.7985000000000002]"
            ]
          },
          "execution_count": 38,
          "metadata": {},
          "output_type": "execute_result"
        }
      ],
      "source": [
        "pretrained_valid_acc"
      ]
    }
  ],
  "metadata": {
    "accelerator": "GPU",
    "colab": {
      "provenance": []
    },
    "kernelspec": {
      "display_name": "Python 3.6.15 ('altegrad')",
      "language": "python",
      "name": "python3"
    },
    "language_info": {
      "codemirror_mode": {
        "name": "ipython",
        "version": 3
      },
      "file_extension": ".py",
      "mimetype": "text/x-python",
      "name": "python",
      "nbconvert_exporter": "python",
      "pygments_lexer": "ipython3",
      "version": "3.11.5"
    },
    "vscode": {
      "interpreter": {
        "hash": "1f3cfdeab8dd8f9900bd16266619de191cf0f5e09365d74b1fba1714dce58066"
      }
    }
  },
  "nbformat": 4,
  "nbformat_minor": 0
}
