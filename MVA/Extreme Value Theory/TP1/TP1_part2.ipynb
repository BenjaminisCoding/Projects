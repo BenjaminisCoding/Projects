{
 "cells": [
  {
   "cell_type": "markdown",
   "metadata": {
    "id": "T54VH54pah_K"
   },
   "source": [
    "## Exercice 1.3 - Domains of attraction: Appendix for GVE MLE estimation\n",
    "### Statistical learning with extremes\n",
    "\n",
    "_Mehdi-Lou Pigeard + Benjamin Lapostolle_\n",
    "\n",
    "_________________"
   ]
  },
  {
   "cell_type": "code",
   "execution_count": null,
   "metadata": {
    "colab": {
     "base_uri": "https://localhost:8080/"
    },
    "id": "s_gXk2mI2EUc",
    "outputId": "4ef3a7a6-eec8-466e-fbc9-3f8dcb0953ff"
   },
   "outputs": [
    {
     "name": "stderr",
     "output_type": "stream",
     "text": [
      "Installing package into ‘/usr/local/lib/R/site-library’\n",
      "(as ‘lib’ is unspecified)\n",
      "\n"
     ]
    }
   ],
   "source": [
    "install.packages(\"evd\")\n",
    "library(evd)"
   ]
  },
  {
   "cell_type": "code",
   "execution_count": null,
   "metadata": {
    "id": "4A3iJKEj8ZSN"
   },
   "outputs": [],
   "source": [
    "inverse_cdf <- function(y, u = 1, alpha = 10, beta = 1) {\n",
    "  result <- u / ((1 - y)^(1 / alpha)) + beta\n",
    "  return(result)\n",
    "}"
   ]
  },
  {
   "cell_type": "code",
   "execution_count": null,
   "metadata": {
    "id": "qDPBj0Na1Yvs"
   },
   "outputs": [],
   "source": [
    "# Given values\n",
    "n <- 1000\n",
    "M <- 5000\n",
    "alpha <- 50\n",
    "\n",
    "# Calculate 'a' and 'b'\n",
    "a <- n^(1/alpha)\n",
    "b <- 1\n",
    "\n",
    "# Generate random data using the inverse_cdf function\n",
    "set.seed(123)  # Set a seed for reproducibility\n",
    "data <- inverse_cdf(matrix(runif(M * n), ncol = n), alpha = alpha)\n",
    "\n",
    "# Calculate 'dataset' by finding the maximum value in each row\n",
    "dataset <- apply(data, 1, max)\n",
    "\n",
    "# Standardize 'dataset'\n",
    "dataset <- (dataset - b) / a"
   ]
  },
  {
   "cell_type": "code",
   "execution_count": null,
   "metadata": {
    "colab": {
     "base_uri": "https://localhost:8080/",
     "height": 437
    },
    "id": "eCAdZ-5v2jvl",
    "outputId": "ab013d20-e934-4687-a4cb-74d507b439da"
   },
   "outputs": [
    {
     "data": {
      "image/png": "[encoded data removed]",
      "text/plain": [
       "Plot with title “Histogram Example”"
      ]
     },
     "metadata": {
      "image/png": {
       "height": 420,
       "width": 420
      }
     },
     "output_type": "display_data"
    }
   ],
   "source": [
    "# Create a histogram\n",
    "hist(dataset,\n",
    "     main = \"Histogram Example\",  # Title of the plot\n",
    "     xlab = \"Values\",            # Label for the x-axis\n",
    "     ylab = \"Frequency\",         # Label for the y-axis\n",
    "     col = \"lightblue\",          # Color of the bars\n",
    "     border = \"black\",           # Color of the border around the bars\n",
    "     breaks = 20                # Number of bins or breaks\n",
    ")"
   ]
  },
  {
   "cell_type": "code",
   "execution_count": null,
   "metadata": {
    "id": "wB9V15ReuAtk"
   },
   "outputs": [],
   "source": [
    "fit_result <- fgev(dataset)"
   ]
  },
  {
   "cell_type": "code",
   "execution_count": null,
   "metadata": {
    "colab": {
     "base_uri": "https://localhost:8080/",
     "height": 289
    },
    "id": "oi0QLwXVucAA",
    "outputId": "6affb731-1b4a-45cb-ded6-cbe136563be2"
   },
   "outputs": [
    {
     "data": {
      "text/plain": [
       "\n",
       "Call: fgev(x = dataset) \n",
       "Deviance: -23296.15 \n",
       "\n",
       "Estimates\n",
       "     loc     scale     shape  \n",
       "1.000111  0.020055  0.008594  \n",
       "\n",
       "Standard Errors\n",
       "      loc      scale      shape  \n",
       "0.0003161  0.0002265  0.0096242  \n",
       "\n",
       "Optimization Information\n",
       "  Convergence: successful \n",
       "  Function Evaluations: 70 \n",
       "  Gradient Evaluations: 5 \n"
      ]
     },
     "metadata": {},
     "output_type": "display_data"
    }
   ],
   "source": [
    "fit_result"
   ]
  },
  {
   "cell_type": "markdown",
   "metadata": {},
   "source": [
    "The results of the fit to the dataset appear to be quite good. The estimated location (loc) and scale parameters are very close to 1.000 and 0.020, respectively, indicating a good fit to the data. The shape parameter, while slightly higher than the expected value of 0.02, is still within a reasonable range, at 0.008594. The standard errors associated with these parameter estimates are relatively low, with the loc and scale parameters having standard errors of 0.0003161 and 0.0002265, respectively. Overall, these results suggest that the fit to the dataset is robust, with parameter estimates and standard errors that are well within acceptable ranges, making it a reliable model for the data."
   ]
  }
 ],
 "metadata": {
  "colab": {
   "provenance": []
  },
  "kernelspec": {
   "display_name": "Python 3 (ipykernel)",
   "language": "python",
   "name": "python3"
  },
  "language_info": {
   "codemirror_mode": {
    "name": "ipython",
    "version": 3
   },
   "file_extension": ".py",
   "mimetype": "text/x-python",
   "name": "python",
   "nbconvert_exporter": "python",
   "pygments_lexer": "ipython3",
   "version": "3.11.5"
  }
 },
 "nbformat": 4,
 "nbformat_minor": 4
}
