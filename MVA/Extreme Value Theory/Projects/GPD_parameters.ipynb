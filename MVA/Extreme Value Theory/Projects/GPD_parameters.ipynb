{
  "cells": [
    {
      "cell_type": "markdown",
      "metadata": {
        "id": "2o-XyAPBFkL-"
      },
      "source": [
        "#Estimating GPD parameters\n",
        "\n",
        "\n",
        "\n",
        "\n",
        "_________________"
      ]
    },
    {
      "cell_type": "code",
      "execution_count": 3,
      "metadata": {
        "colab": {
          "base_uri": "https://localhost:8080/"
        },
        "id": "NfIkgQ9DTpns",
        "outputId": "8d566fe1-d175-439c-ea7e-fde056373837"
      },
      "outputs": [
        {
          "output_type": "stream",
          "name": "stderr",
          "text": [
            "Installing package into ‘/usr/local/lib/R/site-library’\n",
            "(as ‘lib’ is unspecified)\n",
            "\n",
            "\n",
            "Attaching package: ‘evd’\n",
            "\n",
            "\n",
            "The following objects are masked from ‘package:extRemes’:\n",
            "\n",
            "    fbvpot, mrlplot\n",
            "\n",
            "\n",
            "The following objects are masked from ‘package:SpatialExtremes’:\n",
            "\n",
            "    dgev, dgpd, pgev, pgpd, profile2d, qgev, qgpd, rgev, rgpd\n",
            "\n",
            "\n"
          ]
        }
      ],
      "source": [
        "install.packages(\"evd\")\n",
        "library(evd)"
      ]
    },
    {
      "cell_type": "code",
      "execution_count": 2,
      "metadata": {
        "colab": {
          "base_uri": "https://localhost:8080/"
        },
        "id": "aw5Z_m6gzpxw",
        "outputId": "01905fd9-5fd1-44f2-dc7e-8e4d178e006a"
      },
      "outputs": [
        {
          "output_type": "stream",
          "name": "stderr",
          "text": [
            "Installing package into ‘/usr/local/lib/R/site-library’\n",
            "(as ‘lib’ is unspecified)\n",
            "\n",
            "also installing the dependencies ‘dotCall64’, ‘Rcpp’, ‘spam’, ‘maps’, ‘fields’\n",
            "\n",
            "\n",
            "Installing package into ‘/usr/local/lib/R/site-library’\n",
            "(as ‘lib’ is unspecified)\n",
            "\n",
            "also installing the dependencies ‘RcppArmadillo’, ‘Lmoments’, ‘distillery’\n",
            "\n",
            "\n",
            "Loading required package: Lmoments\n",
            "\n",
            "Loading required package: distillery\n",
            "\n",
            "\n",
            "Attaching package: ‘extRemes’\n",
            "\n",
            "\n",
            "The following objects are masked from ‘package:stats’:\n",
            "\n",
            "    qqnorm, qqplot\n",
            "\n",
            "\n"
          ]
        }
      ],
      "source": [
        "install.packages(\"SpatialExtremes\")\n",
        "install.packages(\"extRemes\")\n",
        "library(SpatialExtremes)\n",
        "library(extRemes)"
      ]
    },
    {
      "cell_type": "markdown",
      "metadata": {
        "id": "V7lcp2WgSjfw"
      },
      "source": [
        "## 0. Data\n",
        "We generate our dataset out of independent data from a Fréchet distribution"
      ]
    },
    {
      "cell_type": "code",
      "execution_count": null,
      "metadata": {
        "id": "yGNttO8dUtw7",
        "colab": {
          "base_uri": "https://localhost:8080/",
          "height": 108
        },
        "outputId": "a345ffad-7bdc-41cb-be6b-8546e044674c"
      },
      "outputs": [
        {
          "output_type": "error",
          "ename": "ERROR",
          "evalue": "ignored",
          "traceback": [
            "Error in rgev(n, loc = loc_real, shape = shape_real, scale = scale_real): could not find function \"rgev\"\nTraceback:\n"
          ]
        }
      ],
      "source": [
        "shape_real <- 1/3\n",
        "loc_real <- 1\n",
        "scale_real <- 1/3\n",
        "n <- 6 * 1e3\n",
        "\n",
        "samples <- rgev(n, loc = loc_real, shape = shape_real, scale = scale_real)\n",
        "zoomed_samples <- samples[samples < 10]"
      ]
    },
    {
      "cell_type": "code",
      "source": [
        "### when using in our study\n",
        "gauge = 8\n",
        "data <- read.csv(\"/content/River Flow Observations X.csv\")\n",
        "ind <- which( apply( is.na(data), 1, max ) == 0 )\n",
        "data   <- data[ind,]\n",
        "samples <-  data[, gauge]\n",
        "print(quantile(samples, 0.94))"
      ],
      "metadata": {
        "colab": {
          "base_uri": "https://localhost:8080/",
          "height": 233
        },
        "id": "Y-A1Vs_WC5qK",
        "outputId": "89aaaccc-0c7f-4c73-f9df-caef3e744101"
      },
      "execution_count": 4,
      "outputs": [
        {
          "output_type": "stream",
          "name": "stderr",
          "text": [
            "Warning message in file(file, \"rt\"):\n",
            "“cannot open file '/content/River Flow Observations X.csv': No such file or directory”\n"
          ]
        },
        {
          "output_type": "error",
          "ename": "ERROR",
          "evalue": "ignored",
          "traceback": [
            "Error in file(file, \"rt\"): cannot open the connection\nTraceback:\n",
            "1. read.csv(\"/content/River Flow Observations X.csv\")",
            "2. read.table(file = file, header = header, sep = sep, quote = quote, \n .     dec = dec, fill = fill, comment.char = comment.char, ...)",
            "3. file(file, \"rt\")"
          ]
        }
      ]
    },
    {
      "cell_type": "code",
      "source": [
        "#with the cluster\n",
        "data <- read.csv(\"/content/River Flow Observations X.csv\")\n",
        "ind <- which( apply( is.na(data), 1, max ) == 0 )\n",
        "data   <- data[ind,]\n",
        "clusters = read.csv(\"/content/clusters.csv\")\n",
        "clusters"
      ],
      "metadata": {
        "id": "qfNpHUthvJph",
        "colab": {
          "base_uri": "https://localhost:8080/",
          "height": 233
        },
        "outputId": "e4d72a71-c571-4532-da75-af3349351776"
      },
      "execution_count": 5,
      "outputs": [
        {
          "output_type": "stream",
          "name": "stderr",
          "text": [
            "Warning message in file(file, \"rt\"):\n",
            "“cannot open file '/content/River Flow Observations X.csv': No such file or directory”\n"
          ]
        },
        {
          "output_type": "error",
          "ename": "ERROR",
          "evalue": "ignored",
          "traceback": [
            "Error in file(file, \"rt\"): cannot open the connection\nTraceback:\n",
            "1. read.csv(\"/content/River Flow Observations X.csv\")",
            "2. read.table(file = file, header = header, sep = sep, quote = quote, \n .     dec = dec, fill = fill, comment.char = comment.char, ...)",
            "3. file(file, \"rt\")"
          ]
        }
      ]
    },
    {
      "cell_type": "code",
      "source": [
        "l <- list()\n",
        "#[ 2,  4, 5,  6,  7,  8,  9, 10] pick a cluster among those numbers\n",
        "cluster <- 10\n",
        "for (i in 1:45) {\n",
        "  if (clusters[i] == cluster){\n",
        "    l <- append(l,i)\n",
        "  }\n",
        "}\n",
        "l"
      ],
      "metadata": {
        "id": "QhGyww6TyGxx"
      },
      "execution_count": null,
      "outputs": []
    },
    {
      "cell_type": "code",
      "execution_count": null,
      "metadata": {
        "colab": {
          "base_uri": "https://localhost:8080/",
          "height": 473
        },
        "id": "ZJnJYn5ramEg",
        "outputId": "d254ca3f-1ff6-4cbb-82be-4a5df7fba9c9"
      },
      "outputs": [
        {
          "output_type": "stream",
          "name": "stdout",
          "text": [
            "     94% \n",
            "1.626031 \n"
          ]
        },
        {
          "output_type": "display_data",
          "data": {
            "text/plain": [
              "Plot with title “Distribution of 6000 samples”"
            ],
            "image/png": "[encoded data removed]"
          },
          "metadata": {
            "image/png": {
              "width": 420,
              "height": 420
            }
          }
        }
      ],
      "source": [
        "# Set up a 2x2 grid for plots\n",
        "print(quantile(samples, 0.94))\n",
        "par(mfrow = c(1, 1))\n",
        "\n",
        "# Create and plot multiple graphs\n",
        "hist(samples, breaks = 1000, main = paste(\"Distribution of\", n, 'samples'))\n",
        "#hist(zoomed_samples, breaks = 1000, main = \"Zoom in samples lower then 10\")\n",
        "\n",
        "# Reset the layout to default (1 plot)\n",
        "par(mfrow = c(1, 1))\n"
      ]
    },
    {
      "cell_type": "markdown",
      "metadata": {
        "id": "80HUFbVxGRg4"
      },
      "source": [
        "## 1. Fitting of a GPD"
      ]
    },
    {
      "cell_type": "markdown",
      "metadata": {
        "id": "DqEdKsAucZDl"
      },
      "source": [
        "### Choice of threshold t"
      ]
    },
    {
      "cell_type": "markdown",
      "metadata": {
        "id": "RR8zon_Scdln"
      },
      "source": [
        "Stability plot can be visualize to verify the threshold set"
      ]
    },
    {
      "cell_type": "code",
      "execution_count": null,
      "metadata": {
        "id": "G1uJ-n8edOzh"
      },
      "outputs": [],
      "source": [
        "# Set up a 2x2 grid for plots\n",
        "par(mfrow = c(1, 1))\n",
        "\n",
        "# Create and plot multiple graphs\n",
        "mrlplot(samples, main = paste(\"Mean Residual Life plot\"))\n",
        "tcplot(samples, tlim = c(1,7), std.err = FALSE)\n",
        "# Reset the layout to default (1 plot)\n",
        "par(mfrow = c(1, 1))\n"
      ]
    },
    {
      "cell_type": "code",
      "execution_count": null,
      "metadata": {
        "id": "QVx4jZhtgL4u"
      },
      "outputs": [],
      "source": [
        "### Number of samples above t:\n",
        "t = quantile(samples, 0.94)\n",
        "excess_samples = samples[samples > t]\n",
        "cat(\"Number of excess in our data:\", length(excess_samples), '\\n')\n",
        "proportion <- length(excess_samples) / length(samples)\n",
        "cat(\"Proportion of the excess in our data: \", proportion, \"\\n\")"
      ]
    },
    {
      "cell_type": "code",
      "execution_count": null,
      "metadata": {
        "colab": {
          "base_uri": "https://localhost:8080/",
          "height": 464
        },
        "id": "94MZuesUvy8Y",
        "outputId": "b682d812-60b5-4999-a569-2ca3e1dfa490"
      },
      "outputs": [
        {
          "output_type": "display_data",
          "data": {
            "text/plain": [
              "\n",
              "fevd(x = samples, threshold = t, type = \"GP\", method = \"MLE\")\n",
              "\n",
              "[1] \"Estimation Method used: MLE\"\n",
              "\n",
              "\n",
              " Negative Log-Likelihood Value:  297.5863 \n",
              "\n",
              "\n",
              " Estimated parameters:\n",
              "   scale    shape \n",
              "1.100175 0.176267 \n",
              "\n",
              " Standard Error Estimates:\n",
              "     scale      shape \n",
              "0.10748005 0.07350658 \n",
              "\n",
              " Estimated parameter covariance matrix.\n",
              "             scale        shape\n",
              "scale  0.011551960 -0.004969736\n",
              "shape -0.004969736  0.005403218\n",
              "\n",
              " AIC = 599.1727 \n",
              "\n",
              " BIC = 606.0833 "
            ]
          },
          "metadata": {}
        }
      ],
      "source": [
        "fp <- fevd(samples, threshold = t, type = 'GP', method = \"MLE\")\n",
        "#the mle parameters will be stored in fp$estimate\n",
        "fp"
      ]
    },
    {
      "cell_type": "code",
      "execution_count": null,
      "metadata": {
        "colab": {
          "base_uri": "https://localhost:8080/"
        },
        "id": "FfdgJVBBwY3O",
        "outputId": "5ef25d08-7d06-42cd-8ef2-92a604d20af8"
      },
      "outputs": [
        {
          "output_type": "stream",
          "name": "stdout",
          "text": [
            "scale: 1.100175 shape: 0.176267"
          ]
        }
      ],
      "source": [
        "scale = as.numeric(fp$results$par['scale'])\n",
        "shape = as.numeric(fp$results$par['shape'])\n",
        "cat('scale:', scale, 'shape:', shape)"
      ]
    },
    {
      "cell_type": "code",
      "execution_count": null,
      "metadata": {
        "colab": {
          "base_uri": "https://localhost:8080/",
          "height": 437
        },
        "id": "V4lWahxNQ6Y3",
        "outputId": "a72bef00-8b4d-4f71-87e6-4b4641e28bbf"
      },
      "outputs": [
        {
          "output_type": "display_data",
          "data": {
            "text/plain": [
              "Plot with title “Histogram of excess_samples”"
            ],
            "image/png": "[encoded data removed]"
          },
          "metadata": {
            "image/png": {
              "width": 420,
              "height": 420
            }
          }
        }
      ],
      "source": [
        "x <- seq(0, 40, by = 0.01)\n",
        "density <- dgpd(x, shape = shape, scale = scale)\n",
        "hist(excess_samples, breaks = 200, freq = FALSE)\n",
        "lines(x  + t, density, type = \"l\", col = \"blue\", lwd = 2, xlab = \"X\", ylab = \"Density\",\n",
        "     main = \"Pareto Density Plot\")"
      ]
    },
    {
      "cell_type": "markdown",
      "source": [
        "### Function"
      ],
      "metadata": {
        "id": "CnUtCp3nAUZI"
      }
    },
    {
      "cell_type": "code",
      "source": [
        "#[ 2,  4,  5,  6,  7,  8,  9, 10]\n",
        "\n",
        "get_gauges <- function(cluster, clusters){\n",
        "  l <- list()\n",
        "  for (i in 1:45) {\n",
        "    if (clusters[i] == cluster){\n",
        "      l <- append(l,i)\n",
        "    }\n",
        "  }\n",
        "  return(l)\n",
        "}"
      ],
      "metadata": {
        "id": "ptfLLmH9AceB"
      },
      "execution_count": null,
      "outputs": []
    },
    {
      "cell_type": "code",
      "source": [
        "parameters_clusters <- function(data, clusters, cluster){\n",
        "  l <- get_gauges(cluster, clusters)\n",
        "  th <- list()\n",
        "  samples <- c()\n",
        "  for (i in 1:length(l)){\n",
        "    samples <- c(samples, scale(data[, as.numeric(l[i])], center = TRUE, scale = TRUE))\n",
        "    th <- append(th, quantile(scale(data[, as.numeric(l[i])], center = TRUE, scale = TRUE), 0.94))\n",
        "  }\n",
        "  t <- min(unlist(th))\n",
        "  print(length(samples[samples > t]))\n",
        "  fp <- fevd(samples, threshold = t, type = 'GP', method = \"MLE\")\n",
        "  scale = as.numeric(fp$results$par['scale'])\n",
        "  shape = as.numeric(fp$results$par['shape'])\n",
        "  return(list(summary(fp), t))\n",
        "}"
      ],
      "metadata": {
        "id": "PB0lW2_D-Jnc"
      },
      "execution_count": null,
      "outputs": []
    },
    {
      "cell_type": "code",
      "source": [
        "parameters_clusters(data, clusters, 6)"
      ],
      "metadata": {
        "id": "YHnoCMNFHb_a",
        "colab": {
          "base_uri": "https://localhost:8080/",
          "height": 830
        },
        "outputId": "8e9b41d9-e22a-4b43-bc1d-0af89734a323"
      },
      "execution_count": null,
      "outputs": [
        {
          "output_type": "stream",
          "name": "stdout",
          "text": [
            "[1] 290\n",
            "\n",
            "fevd(x = samples, threshold = t, type = \"GP\", method = \"MLE\")\n",
            "\n",
            "[1] \"Estimation Method used: MLE\"\n",
            "\n",
            "\n",
            " Negative Log-Likelihood Value:  364.6081 \n",
            "\n",
            "\n",
            " Estimated parameters:\n",
            "    scale     shape \n",
            "1.1057460 0.1567493 \n",
            "\n",
            " Standard Error Estimates:\n",
            "     scale      shape \n",
            "0.09587285 0.06445159 \n",
            "\n",
            " Estimated parameter covariance matrix.\n",
            "             scale        shape\n",
            "scale  0.009191603 -0.003901972\n",
            "shape -0.003901972  0.004154008\n",
            "\n",
            " AIC = 733.2163 \n",
            "\n",
            " BIC = 740.556 \n"
          ]
        },
        {
          "output_type": "display_data",
          "data": {
            "text/html": [
              "<ol>\n",
              "\t<li><dl>\n",
              "\t<dt>$par</dt>\n",
              "\t\t<dd><style>\n",
              ".dl-inline {width: auto; margin:0; padding: 0}\n",
              ".dl-inline>dt, .dl-inline>dd {float: none; width: auto; display: inline-block}\n",
              ".dl-inline>dt::after {content: \":\\0020\"; padding-right: .5ex}\n",
              ".dl-inline>dt:not(:first-of-type) {padding-left: .5ex}\n",
              "</style><dl class=dl-inline><dt>scale</dt><dd>1.10574600321382</dd><dt>shape</dt><dd>0.156749255840655</dd></dl>\n",
              "</dd>\n",
              "\t<dt>$cov.theta</dt>\n",
              "\t\t<dd><table class=\"dataframe\">\n",
              "<caption>A matrix: 2 × 2 of type dbl</caption>\n",
              "<thead>\n",
              "\t<tr><th></th><th scope=col>scale</th><th scope=col>shape</th></tr>\n",
              "</thead>\n",
              "<tbody>\n",
              "\t<tr><th scope=row>scale</th><td> 0.009191603</td><td>-0.003901972</td></tr>\n",
              "\t<tr><th scope=row>shape</th><td>-0.003901972</td><td> 0.004154008</td></tr>\n",
              "</tbody>\n",
              "</table>\n",
              "</dd>\n",
              "\t<dt>$se.theta</dt>\n",
              "\t\t<dd><style>\n",
              ".dl-inline {width: auto; margin:0; padding: 0}\n",
              ".dl-inline>dt, .dl-inline>dd {float: none; width: auto; display: inline-block}\n",
              ".dl-inline>dt::after {content: \":\\0020\"; padding-right: .5ex}\n",
              ".dl-inline>dt:not(:first-of-type) {padding-left: .5ex}\n",
              "</style><dl class=dl-inline><dt>scale</dt><dd>0.0958728488942826</dd><dt>shape</dt><dd>0.0644515931043327</dd></dl>\n",
              "</dd>\n",
              "\t<dt>$nllh</dt>\n",
              "\t\t<dd>364.60814257196</dd>\n",
              "\t<dt>$AIC</dt>\n",
              "\t\t<dd>733.21628514392</dd>\n",
              "\t<dt>$BIC</dt>\n",
              "\t\t<dd>740.556046989881</dd>\n",
              "</dl>\n",
              "</li>\n",
              "\t<li>1.36332879188018</li>\n",
              "</ol>\n"
            ],
            "text/markdown": "1. $par\n:   scale\n:   1.10574600321382shape\n:   0.156749255840655\n\n\n$cov.theta\n:   \nA matrix: 2 × 2 of type dbl\n\n| <!--/--> | scale | shape |\n|---|---|---|\n| scale |  0.009191603 | -0.003901972 |\n| shape | -0.003901972 |  0.004154008 |\n\n\n$se.theta\n:   scale\n:   0.0958728488942826shape\n:   0.0644515931043327\n\n\n$nllh\n:   364.60814257196\n$AIC\n:   733.21628514392\n$BIC\n:   740.556046989881\n\n\n\n2. 1.36332879188018\n\n\n",
            "text/latex": "\\begin{enumerate}\n\\item \\begin{description}\n\\item[\\$par] \\begin{description*}\n\\item[scale] 1.10574600321382\n\\item[shape] 0.156749255840655\n\\end{description*}\n\n\\item[\\$cov.theta] A matrix: 2 × 2 of type dbl\n\\begin{tabular}{r|ll}\n  & scale & shape\\\\\n\\hline\n\tscale &  0.009191603 & -0.003901972\\\\\n\tshape & -0.003901972 &  0.004154008\\\\\n\\end{tabular}\n\n\\item[\\$se.theta] \\begin{description*}\n\\item[scale] 0.0958728488942826\n\\item[shape] 0.0644515931043327\n\\end{description*}\n\n\\item[\\$nllh] 364.60814257196\n\\item[\\$AIC] 733.21628514392\n\\item[\\$BIC] 740.556046989881\n\\end{description}\n\n\\item 1.36332879188018\n\\end{enumerate}\n",
            "text/plain": [
              "[[1]]\n",
              "[[1]]$par\n",
              "    scale     shape \n",
              "1.1057460 0.1567493 \n",
              "\n",
              "[[1]]$cov.theta\n",
              "             scale        shape\n",
              "scale  0.009191603 -0.003901972\n",
              "shape -0.003901972  0.004154008\n",
              "\n",
              "[[1]]$se.theta\n",
              "     scale      shape \n",
              "0.09587285 0.06445159 \n",
              "\n",
              "[[1]]$nllh\n",
              "[1] 364.6081\n",
              "\n",
              "[[1]]$AIC\n",
              "[1] 733.2163\n",
              "\n",
              "[[1]]$BIC\n",
              "[1] 740.556\n",
              "\n",
              "\n",
              "[[2]]\n",
              "[1] 1.363329\n"
            ]
          },
          "metadata": {}
        }
      ]
    },
    {
      "cell_type": "code",
      "source": [
        "parameters_clusters(data, clusters, 2)"
      ],
      "metadata": {
        "id": "EmiLHzj8DJAH"
      },
      "execution_count": null,
      "outputs": []
    }
  ],
  "metadata": {
    "colab": {
      "provenance": []
    },
    "kernelspec": {
      "display_name": "R",
      "name": "ir"
    },
    "language_info": {
      "name": "R"
    }
  },
  "nbformat": 4,
  "nbformat_minor": 0
}